{
 "cells": [
  {
   "cell_type": "markdown",
   "metadata": {},
   "source": [
    "# Hello world 0.2.0\n",
    "\n",
    "This is my second shot at a site. This time I'll be using Jupyter Notebooks and some python backend to export it to HTML and stitch it all together. A bit hacky but more inline with my skills. \n",
    "\n",
    "I'll hopefully be using this site to announce my upcoming project cargo-tarpaulin and other projects I'm involved with in the rust community."
   ]
  }
 ],
 "metadata": {
  "kernelspec": {
   "display_name": "Python 2",
   "language": "python",
   "name": "python2"
  },
  "language_info": {
   "codemirror_mode": {
    "name": "ipython",
    "version": 2
   },
   "file_extension": ".py",
   "mimetype": "text/x-python",
   "name": "python",
   "nbconvert_exporter": "python",
   "pygments_lexer": "ipython2",
   "version": "2.7.13"
  }
 },
 "nbformat": 4,
 "nbformat_minor": 2
}
